{
  "nbformat": 4,
  "nbformat_minor": 0,
  "metadata": {
    "colab": {
      "name": "Dictionary_practice.ipynb",
      "provenance": [],
      "authorship_tag": "ABX9TyNpU8bPN68OYtFZV3b3M8ba",
      "include_colab_link": true
    },
    "kernelspec": {
      "name": "python3",
      "display_name": "Python 3"
    },
    "language_info": {
      "name": "python"
    }
  },
  "cells": [
    {
      "cell_type": "markdown",
      "metadata": {
        "id": "view-in-github",
        "colab_type": "text"
      },
      "source": [
        "<a href=\"https://colab.research.google.com/github/rnadjqaim/rnadjqaim/blob/main/Dictionary_practice.ipynb\" target=\"_parent\"><img src=\"https://colab.research.google.com/assets/colab-badge.svg\" alt=\"Open In Colab\"/></a>"
      ]
    },
    {
      "cell_type": "code",
      "execution_count": null,
      "metadata": {
        "id": "kfnB_sLGOyGj"
      },
      "outputs": [],
      "source": [
        "# dictonarytools \n",
        "#1- clear =>remove all dictionary\n",
        "car = {\n",
        "  \"brand\": \"Ford\",\n",
        "  \"model\": \"royal\",\n",
        "  \"year\": 2021\n",
        "}\n",
        "car.clear()\n",
        "\n",
        "print(car)\n",
        "# ----------------\n",
        "#2- get() , return the value with specific index \n",
        "x = car.get(\"model\")\n",
        "\n",
        "print(x)\n",
        "#--------------------\n",
        "#3- items () =>returns a list containing \n",
        "# a tuple for each key value pair\n",
        "x = car.items()\n",
        "\n",
        "print(x)\n",
        "#-------------\n",
        "#3- keys() Returns a list containing the dictionary's keys.\n",
        "\n",
        "x = car.keys()\n",
        "\n",
        "print(x)\n",
        "\n",
        "#----------------\n",
        "#4- values () =>  Returns a list containing the dictionary's values.\n",
        "\n",
        "#-------------\n",
        "# 5- pop () => Removes the element with the specified key\n",
        "car.pop(\"model\")\n",
        "\n",
        "print(car)\n",
        "#-----------\n",
        "#6- update () => updates data \n",
        "\n",
        "car.update({\"color\": \"White\"})\n",
        "\n",
        "print(car)\n",
        "\n",
        "#-------------\n",
        "#7- fromkeys() method returns a dictionary with the specified keys and the specified value.\n",
        "# type of conversion the tuples to dict\n",
        "x = ('key1', 'key2', 'key3')\n",
        "y = 0\n",
        "\n",
        "thisdict = dict.fromkeys(x, y)\n",
        "\n",
        "\n",
        "print(thisdict)\n",
        "#--------------\n",
        "#8- popitem()=> Removes the last inserted key-value pair\n",
        "car.popitem()\n",
        "\n",
        "print(car)\n"
      ]
    }
  ]
}