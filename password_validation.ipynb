{
  "nbformat": 4,
  "nbformat_minor": 0,
  "metadata": {
    "colab": {
      "name": "password_validation.ipynb",
      "provenance": [],
      "authorship_tag": "ABX9TyOsHKz0onj8TXAR+BB1xQ+h",
      "include_colab_link": true
    },
    "kernelspec": {
      "name": "python3",
      "display_name": "Python 3"
    },
    "language_info": {
      "name": "python"
    }
  },
  "cells": [
    {
      "cell_type": "markdown",
      "metadata": {
        "id": "view-in-github",
        "colab_type": "text"
      },
      "source": [
        "<a href=\"https://colab.research.google.com/github/rnadjqaim/rnadjqaim/blob/main/password_validation.ipynb\" target=\"_parent\"><img src=\"https://colab.research.google.com/assets/colab-badge.svg\" alt=\"Open In Colab\"/></a>"
      ]
    },
    {
      "cell_type": "markdown",
      "source": [
        "Im Rnad Abu Jqaim, this is simple code validates your passowrd ! \n",
        "\n"
      ],
      "metadata": {
        "id": "tEAQ9y6oMT8r"
      }
    },
    {
      "cell_type": "code",
      "execution_count": 1,
      "metadata": {
        "colab": {
          "base_uri": "https://localhost:8080/"
        },
        "id": "gYJWuAoDMJ-7",
        "outputId": "e7c0a3b1-f694-42dc-a055-a90aea768339"
      },
      "outputs": [
        {
          "output_type": "stream",
          "name": "stdout",
          "text": [
            "Input your password123\n",
            "Not a Valid Password\n"
          ]
        }
      ],
      "source": [
        "import re\n",
        "p= input(\"Input your password\")\n",
        "x = True\n",
        " \n",
        "while x:  \n",
        "    \n",
        "    if (len(p)<6 or len(p)>12):\n",
        "        break\n",
        "    elif not re.search(\"[a-z]\",p):\n",
        "        break\n",
        "    elif not re.search(\"[0-9]\",p):\n",
        "        break\n",
        "    elif not re.search(\"[A-Z]\",p):\n",
        "        break\n",
        "    elif not re.search(\"[$#@]\",p):\n",
        "        break\n",
        "    elif re.search(\"\\s\",p):\n",
        "        break\n",
        "    else:\n",
        "        print(\"Valid Password\")\n",
        "        x=False\n",
        "        break\n",
        "\n",
        "if x:\n",
        "    print(\"Not a Valid Password\")"
      ]
    }
  ]
}