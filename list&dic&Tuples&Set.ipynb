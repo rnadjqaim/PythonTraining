{
  "nbformat": 4,
  "nbformat_minor": 0,
  "metadata": {
    "colab": {
      "name": "list&dic&Tuples&Set.ipynb",
      "provenance": [],
      "include_colab_link": true
    },
    "kernelspec": {
      "name": "python3",
      "display_name": "Python 3"
    },
    "language_info": {
      "name": "python"
    }
  },
  "cells": [
    {
      "cell_type": "markdown",
      "metadata": {
        "id": "view-in-github",
        "colab_type": "text"
      },
      "source": [
        "<a href=\"https://colab.research.google.com/github/rnadjqaim/PythonTraining/blob/main/list%26dic%26Tuples%26Set.ipynb\" target=\"_parent\"><img src=\"https://colab.research.google.com/assets/colab-badge.svg\" alt=\"Open In Colab\"/></a>"
      ]
    },
    {
      "cell_type": "code",
      "execution_count": null,
      "metadata": {
        "id": "XFZe7AWz7Bu0"
      },
      "outputs": [],
      "source": [
        "\n",
        "# list, dic, tuple, sets \n",
        "# list : \n",
        "level7 = ['ahmed','yosef','nadia',21,True,'Car', 'Window']\n",
        "x= [1,1,1,0,0,2,9,1]\n",
        "level7.append('anas')\n",
        "del level7 [3]\n",
        "del level7 [1]\n",
        "reap=x.count(1)\n",
        "print (reap)\n",
        "print (level7)\n",
        "y= x.index(9)\n",
        "print (y)\n",
        "\n",
        "# dictionary : \n",
        "y= {'name':'saad',\n",
        "'age':12.5,\n",
        "'clour':'black'}\n",
        "print (y)\n",
        "del y['age']\n",
        "print (y)\n",
        "y.clear()\n",
        "print (y)\n",
        "\n",
        "# tuples : \n",
        "l7 = (1,2,3)\n",
        "print (l7)\n",
        "\n",
        "# sets : \n",
        "set7 = {1,8,2}\n",
        "print (set7)\n",
        "\n",
        "#happy work solutions  :  num of digit.\n",
        "x= int(input('num'))\n",
        "dig=0\n",
        "while (x>0): \n",
        "    dig +=1\n",
        "    x=x//10 \n",
        "print ('the n/um of digit',dig)"
      ]
    }
  ]
}