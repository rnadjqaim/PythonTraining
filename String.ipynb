{
  "nbformat": 4,
  "nbformat_minor": 0,
  "metadata": {
    "colab": {
      "name": "Lect#3pAIString.ipynb",
      "provenance": [],
      "authorship_tag": "ABX9TyMqQkdikYor4qDrdiRLISri",
      "include_colab_link": true
    },
    "kernelspec": {
      "name": "python3",
      "display_name": "Python 3"
    },
    "language_info": {
      "name": "python"
    }
  },
  "cells": [
    {
      "cell_type": "markdown",
      "metadata": {
        "id": "view-in-github",
        "colab_type": "text"
      },
      "source": [
        "<a href=\"https://colab.research.google.com/github/rnadjqaim/PythonTraining/blob/main/String.ipynb\" target=\"_parent\"><img src=\"https://colab.research.google.com/assets/colab-badge.svg\" alt=\"Open In Colab\"/></a>"
      ]
    },
    {
      "cell_type": "code",
      "execution_count": null,
      "metadata": {
        "colab": {
          "base_uri": "https://localhost:8080/"
        },
        "id": "FZxjc8U8R4MW",
        "outputId": "3db94417-c164-4a94-8c66-c9344464921e"
      },
      "outputs": [
        {
          "output_type": "stream",
          "name": "stdout",
          "text": [
            "30\n"
          ]
        }
      ],
      "source": [
        "name = 'python programming is powerful'\n",
        "print (len(name))\n",
        "# len : function : to find the length of string "
      ]
    },
    {
      "cell_type": "code",
      "source": [
        "name = 'python programming is powerful'\n",
        "print (name*10)\n",
        "#using (*) to repeat "
      ],
      "metadata": {
        "colab": {
          "base_uri": "https://localhost:8080/"
        },
        "id": "bY0XseEqSWA_",
        "outputId": "5fd2bc47-834b-4873-a1a3-fbc07485ee70"
      },
      "execution_count": null,
      "outputs": [
        {
          "output_type": "stream",
          "name": "stdout",
          "text": [
            "python programming is powerfulpython programming is powerfulpython programming is powerfulpython programming is powerfulpython programming is powerfulpython programming is powerfulpython programming is powerfulpython programming is powerfulpython programming is powerfulpython programming is powerful\n"
          ]
        }
      ]
    },
    {
      "cell_type": "code",
      "source": [
        "#index in string start from 0 \n",
        "# the space is counted \n",
        "# there are two index types : positive index(start with 0,1,2,3,..etc) and negative index (start with -1,-2,-3,..etc)\n",
        "\n",
        "name = 'python programming is powerful'\n",
        "name.index('m')"
      ],
      "metadata": {
        "colab": {
          "base_uri": "https://localhost:8080/"
        },
        "id": "mDU7QLeaUI-W",
        "outputId": "8539022b-a705-4396-feac-1050fbf9d76f"
      },
      "execution_count": null,
      "outputs": [
        {
          "output_type": "execute_result",
          "data": {
            "text/plain": [
              "13"
            ]
          },
          "metadata": {},
          "execution_count": 21
        }
      ]
    },
    {
      "cell_type": "code",
      "source": [
        "name = 'python programming is powerful'\n",
        "coach = 'rnad'\n",
        "print (name +'  ' + coach)\n",
        "# using (+) to combine "
      ],
      "metadata": {
        "colab": {
          "base_uri": "https://localhost:8080/"
        },
        "id": "meCIPcQOSm8Q",
        "outputId": "2241e8c9-0f2b-409e-c8a3-73f9817fc3f5"
      },
      "execution_count": null,
      "outputs": [
        {
          "output_type": "stream",
          "name": "stdout",
          "text": [
            "python programming is powerful  rnad\n"
          ]
        }
      ]
    },
    {
      "cell_type": "code",
      "source": [
        "name = 'python programming is powerful'\n",
        "#print (capitalize(name))\n",
        "name.capitalize()\n"
      ],
      "metadata": {
        "colab": {
          "base_uri": "https://localhost:8080/",
          "height": 36
        },
        "id": "TijFSMVCS3eb",
        "outputId": "e144ae70-52e0-4fb4-9c75-eb556c7ebed0"
      },
      "execution_count": null,
      "outputs": [
        {
          "output_type": "execute_result",
          "data": {
            "text/plain": [
              "'Python programming is powerful'"
            ],
            "application/vnd.google.colaboratory.intrinsic+json": {
              "type": "string"
            }
          },
          "metadata": {},
          "execution_count": 10
        }
      ]
    },
    {
      "cell_type": "code",
      "source": [
        "name = 'PYTHON WITH UNICEF IS USEFUL'\n",
        "name.casefold()\n",
        "# TO MAKE IT LOWERCASE"
      ],
      "metadata": {
        "colab": {
          "base_uri": "https://localhost:8080/",
          "height": 36
        },
        "id": "5XXa2y57Th58",
        "outputId": "b5c3248b-a434-4575-f079-4c1d914535ed"
      },
      "execution_count": null,
      "outputs": [
        {
          "output_type": "execute_result",
          "data": {
            "text/plain": [
              "'python with unicef is useful'"
            ],
            "application/vnd.google.colaboratory.intrinsic+json": {
              "type": "string"
            }
          },
          "metadata": {},
          "execution_count": 12
        }
      ]
    },
    {
      "cell_type": "code",
      "source": [
        "name = 'python programming is powerful'\n",
        "name.encode()"
      ],
      "metadata": {
        "colab": {
          "base_uri": "https://localhost:8080/"
        },
        "id": "b8dLC-U7Txec",
        "outputId": "3a7eaae6-3f54-4674-b4c9-f7ac40119608"
      },
      "execution_count": null,
      "outputs": [
        {
          "output_type": "execute_result",
          "data": {
            "text/plain": [
              "b'python programming is ***'"
            ]
          },
          "metadata": {},
          "execution_count": 14
        }
      ]
    },
    {
      "cell_type": "code",
      "source": [
        "name = 'python programming is powerful'\n",
        "name.find('p')\n",
        "name.find('i')"
      ],
      "metadata": {
        "colab": {
          "base_uri": "https://localhost:8080/"
        },
        "id": "Ocmyt5pkT8X_",
        "outputId": "70c35aee-e2f4-496f-c415-c1340003b30c"
      },
      "execution_count": null,
      "outputs": [
        {
          "output_type": "execute_result",
          "data": {
            "text/plain": [
              "15"
            ]
          },
          "metadata": {},
          "execution_count": 16
        }
      ]
    },
    {
      "cell_type": "code",
      "source": [
        "#list \n",
        "word = 'rnad is active person'\n",
        "project = ['rnad', 'is', 'active', 'person']\n",
        "a = 'd'\n",
        "word.isalpha()\n",
        "a.isalpha()\n",
        "word.upper()\n",
        "\n"
      ],
      "metadata": {
        "colab": {
          "base_uri": "https://localhost:8080/",
          "height": 36
        },
        "id": "GpZMQyYqUx4h",
        "outputId": "dafa4ae8-26d9-45dd-9a0f-5c0f970eec8e"
      },
      "execution_count": null,
      "outputs": [
        {
          "output_type": "execute_result",
          "data": {
            "text/plain": [
              "'RNAD IS ACTIVE PERSON'"
            ],
            "application/vnd.google.colaboratory.intrinsic+json": {
              "type": "string"
            }
          },
          "metadata": {},
          "execution_count": 30
        }
      ]
    },
    {
      "cell_type": "code",
      "source": [
        "word = 'rnad is active person'\n",
        "word.translate('r')"
      ],
      "metadata": {
        "colab": {
          "base_uri": "https://localhost:8080/",
          "height": 36
        },
        "id": "D9pAbwHnV_a6",
        "outputId": "d6b3c76a-5bd3-40a2-da05-7c5991f3751d"
      },
      "execution_count": null,
      "outputs": [
        {
          "output_type": "execute_result",
          "data": {
            "text/plain": [
              "'rnad is active person'"
            ],
            "application/vnd.google.colaboratory.intrinsic+json": {
              "type": "string"
            }
          },
          "metadata": {},
          "execution_count": 40
        }
      ]
    },
    {
      "cell_type": "code",
      "source": [
        "word = 'rnad is active person'\n",
        "word.title()"
      ],
      "metadata": {
        "colab": {
          "base_uri": "https://localhost:8080/",
          "height": 36
        },
        "id": "02phtPW3WlI0",
        "outputId": "9546dba5-f357-447a-9f70-e69476fc7415"
      },
      "execution_count": null,
      "outputs": [
        {
          "output_type": "execute_result",
          "data": {
            "text/plain": [
              "'Rnad Is Active Person'"
            ],
            "application/vnd.google.colaboratory.intrinsic+json": {
              "type": "string"
            }
          },
          "metadata": {},
          "execution_count": 41
        }
      ]
    },
    {
      "cell_type": "code",
      "source": [
        "word = 'rnad is active person'\n",
        "\n",
        "word.split()\n",
        "# to convert to list \n"
      ],
      "metadata": {
        "colab": {
          "base_uri": "https://localhost:8080/"
        },
        "id": "ZUDlma24WsEX",
        "outputId": "b1a064c7-0a08-4a2c-c6f7-276a6e25c805"
      },
      "execution_count": null,
      "outputs": [
        {
          "output_type": "execute_result",
          "data": {
            "text/plain": [
              "['rnad', 'is', 'active', 'person']"
            ]
          },
          "metadata": {},
          "execution_count": 47
        }
      ]
    },
    {
      "cell_type": "code",
      "source": [
        ""
      ],
      "metadata": {
        "id": "hpLgBgxYXSke"
      },
      "execution_count": null,
      "outputs": []
    },
    {
      "cell_type": "code",
      "source": [
        "project = ['rnad', 'is', 'active', 'person']\n",
        "print (type(project))"
      ],
      "metadata": {
        "colab": {
          "base_uri": "https://localhost:8080/"
        },
        "id": "R4J6xmvqXDNs",
        "outputId": "242eb95e-99ea-495f-9258-ca807c4a62bd"
      },
      "execution_count": null,
      "outputs": [
        {
          "output_type": "stream",
          "name": "stdout",
          "text": [
            "<class 'list'>\n"
          ]
        }
      ]
    },
    {
      "cell_type": "code",
      "source": [
        "word = 'rnad is active person'\n",
        "\n",
        "word.splitlines()"
      ],
      "metadata": {
        "colab": {
          "base_uri": "https://localhost:8080/"
        },
        "id": "nsYmWiMIW3YK",
        "outputId": "3d3ae521-ff43-44fc-9b2f-9769307e89fa"
      },
      "execution_count": null,
      "outputs": [
        {
          "output_type": "execute_result",
          "data": {
            "text/plain": [
              "['rnad is active person']"
            ]
          },
          "metadata": {},
          "execution_count": 44
        }
      ]
    },
    {
      "cell_type": "code",
      "source": [
        "# for more resources : https://www.w3schools.com/python/python_ref_string.asp\n"
      ],
      "metadata": {
        "id": "UELac76cVj7Q"
      },
      "execution_count": null,
      "outputs": []
    }
  ]
}