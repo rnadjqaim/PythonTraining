{
  "nbformat": 4,
  "nbformat_minor": 0,
  "metadata": {
    "colab": {
      "name": "COVID19_Vacancy_taken.ipynb",
      "provenance": [],
      "authorship_tag": "ABX9TyMmXQMl+YfGuGm4uQ0NfAly",
      "include_colab_link": true
    },
    "kernelspec": {
      "name": "python3",
      "display_name": "Python 3"
    },
    "language_info": {
      "name": "python"
    }
  },
  "cells": [
    {
      "cell_type": "markdown",
      "metadata": {
        "id": "view-in-github",
        "colab_type": "text"
      },
      "source": [
        "<a href=\"https://colab.research.google.com/github/rnadjqaim/rnadjqaim/blob/main/COVID19_Vacancy_taken.ipynb\" target=\"_parent\"><img src=\"https://colab.research.google.com/assets/colab-badge.svg\" alt=\"Open In Colab\"/></a>"
      ]
    },
    {
      "cell_type": "code",
      "execution_count": null,
      "metadata": {
        "colab": {
          "base_uri": "https://localhost:8080/"
        },
        "id": "-wwZvtpCOdAu",
        "outputId": "6ee02990-cab2-4ce0-b08e-88545ad5c5ee"
      },
      "outputs": [
        {
          "output_type": "stream",
          "name": "stdout",
          "text": [
            "yournamernad\n",
            "rnad\n",
            "True\n"
          ]
        }
      ],
      "source": [
        "class Covid_19 :\n",
        "    def __init__(self, name,vacc):\n",
        "        self.name = name\n",
        "        self.vacc = vacc \n",
        "\n",
        "\n",
        "Person = Covid_19(input('yourname'),True)\n",
        "print (Person.name)\n",
        "print (Person.vacc)"
      ]
    }
  ]
}